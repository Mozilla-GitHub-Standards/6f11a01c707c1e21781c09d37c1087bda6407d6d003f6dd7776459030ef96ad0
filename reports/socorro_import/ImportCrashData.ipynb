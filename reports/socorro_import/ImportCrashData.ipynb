{
 "cells": [
  {
   "cell_type": "markdown",
   "metadata": {},
   "source": [
    "# Import Socorro crash data into the Data Platform\n",
    "\n",
    "We want to be able to store Socorro crash data in Parquet form so that it can be made accessible from re:dash.\n",
    "\n",
    "See [Bug 1273657](https://bugzilla.mozilla.org/show_bug.cgi?id=1273657) for more details"
   ]
  },
  {
   "cell_type": "code",
   "execution_count": 2,
   "metadata": {
    "collapsed": false
   },
   "outputs": [],
   "source": [
    "from pyspark.sql import SQLContext\n",
    "from pyspark.sql.types import *\n",
    "\n",
    "crash_schema = StructType([\n",
    "  StructField(\"additional_minidumps\", ArrayType(StringType(), containsNull = False), nullable = True),\n",
    "  StructField(\"addons\", ArrayType(StringType(), containsNull = False), nullable = True),\n",
    "  StructField(\"addons_checked\", BooleanType(), nullable = False),\n",
    "  StructField(\"address\", StringType(), nullable = True),\n",
    "  StructField(\"app_notes\", StringType(), nullable = True),\n",
    "  StructField(\"build_id\", StringType(), nullable = True),\n",
    "  StructField(\"classifications\", StructType([\n",
    "    StructField(\"jit\", StructType([\n",
    "      StructField(\"category\", StringType(), nullable = True),\n",
    "      StructField(\"category_return_code\", StringType(), nullable = True)\n",
    "    ]), nullable = True),\n",
    "    StructField(\"skunk_works\", StructType([\n",
    "      StructField(\"classification\", StringType(), nullable = True),\n",
    "      StructField(\"classification_data\", StringType(), nullable = True),\n",
    "      StructField(\"classification_version\", StringType(), nullable = True)\n",
    "    ]), nullable = True),\n",
    "    StructField(\"support\", StructType([\n",
    "      StructField(\"classification\", StringType(), nullable = True),\n",
    "      StructField(\"classification_data\", StringType(), nullable = True),\n",
    "      StructField(\"classification_version\", StringType(), nullable = True)\n",
    "    ]), nullable = True)\n",
    "  ]), nullable = True),\n",
    "  StructField(\"cpu_arch\", StringType(), nullable = True),\n",
    "  StructField(\"cpu_info\", StringType(), nullable = True),\n",
    "  StructField(\"crash_id\", StringType(), nullable = True),\n",
    "  StructField(\"date\", StringType(), nullable = True),\n",
    "  StructField(\"flash_version\", StringType(), nullable = True),\n",
    "  StructField(\"hang_type\", IntegerType(), nullable = True),\n",
    "  StructField(\"install_age\", IntegerType(), nullable = True),\n",
    "  StructField(\"java_stack_trace\", StringType(), nullable = True),\n",
    "  StructField(\"json_dump\", StructType([\n",
    "    StructField(\"crash_info\", StructType([\n",
    "      StructField(\"address\", StringType(), nullable = True),\n",
    "      StructField(\"crashing_thread\", IntegerType(), nullable = True),\n",
    "      StructField(\"type\", StringType(), nullable = True)\n",
    "    ]), nullable = True),\n",
    "    StructField(\"crashing_thread\", StructType([\n",
    "      StructField(\"frames\", ArrayType(StructType([\n",
    "        StructField(\"file\", StringType(), nullable = True),\n",
    "        StructField(\"frame\", IntegerType(), nullable = True),\n",
    "        StructField(\"function\", StringType(), nullable = True),\n",
    "        StructField(\"function_offset\", StringType(), nullable = True),\n",
    "        StructField(\"line\", IntegerType(), nullable = True),\n",
    "        StructField(\"module\", StringType(), nullable = True),\n",
    "        StructField(\"module_offset\", StringType(), nullable = True),\n",
    "        StructField(\"offset\", StringType(), nullable = True)\n",
    "      ])), nullable = True),\n",
    "      StructField(\"threads_index\", IntegerType(), nullable = True),\n",
    "      StructField(\"total_frames\", IntegerType(), nullable = True)\n",
    "    ]), nullable = True),\n",
    "    StructField(\"largest_free_vm_block\", StringType(), nullable = True),\n",
    "    StructField(\"main_module\", IntegerType(), nullable = True),\n",
    "    StructField(\"status\", StringType(), nullable = True),\n",
    "    StructField(\"system_info\", StructType([\n",
    "      StructField(\"cpu_arch\", StringType(), nullable = True),\n",
    "      StructField(\"cpu_count\", IntegerType(), nullable = True),\n",
    "      StructField(\"cpu_info\", StringType(), nullable = True),\n",
    "      StructField(\"os\", StringType(), nullable = True),\n",
    "      StructField(\"os_ver\", StringType(), nullable = True)\n",
    "    ]), nullable = True),\n",
    "    StructField(\"thread_count\", IntegerType(), nullable = True),\n",
    "    StructField(\"threads\", ArrayType(StructType([\n",
    "      StructField(\"frame_count\", IntegerType(), nullable = True),\n",
    "      StructField(\"frames\", ArrayType(StructType([\n",
    "        StructField(\"file\", StringType(), nullable = True),\n",
    "        StructField(\"frame\", IntegerType(), nullable = True),\n",
    "        StructField(\"function\", StringType(), nullable = True),\n",
    "        StructField(\"function_offset\", StringType(), nullable = True),\n",
    "        StructField(\"line\", IntegerType(), nullable = True),\n",
    "        StructField(\"module\", StringType(), nullable = True),\n",
    "        StructField(\"module_offset\", StringType(), nullable = True),\n",
    "        StructField(\"offset\", StringType(), nullable = True)\n",
    "      ])), nullable = True)\n",
    "    ])), nullable = True),\n",
    "    StructField(\"tiny_block_size\", StringType(), nullable = True),\n",
    "    StructField(\"write_combine_size\", StringType(), nullable = True)\n",
    "  ]), nullable = True),\n",
    "  StructField(\"last_crash\", IntegerType(), nullable = True),\n",
    "  StructField(\"memory_report\", StructType([\n",
    "    StructField(\"hasMozMallocUsableSize\", BooleanType(), nullable = False),\n",
    "    StructField(\"reports\", ArrayType(StructType([\n",
    "      StructField(\"amount\", IntegerType(), nullable = True),\n",
    "      StructField(\"description\", StringType(), nullable = True),\n",
    "      StructField(\"kind\", IntegerType(), nullable = True),\n",
    "      StructField(\"path\", StringType(), nullable = True),\n",
    "      StructField(\"process\", StringType(), nullable = True),\n",
    "      StructField(\"units\", IntegerType(), nullable = True)\n",
    "    ])), nullable = True),\n",
    "    StructField(\"version\", IntegerType(), nullable = True)\n",
    "  ]), nullable = True),\n",
    "  StructField(\"platform\", StringType(), nullable = True),\n",
    "  StructField(\"platform_pretty_version\", StringType(), nullable = True),\n",
    "  StructField(\"platform_version\", StringType(), nullable = True),\n",
    "  StructField(\"plugin_filename\", StringType(), nullable = True),\n",
    "  StructField(\"plugin_name\", StringType(), nullable = True),\n",
    "  StructField(\"plugin_version\", StringType(), nullable = True),\n",
    "  StructField(\"process_type\", StringType(), nullable = True),\n",
    "  StructField(\"processor_notes\", StringType(), nullable = True),\n",
    "  StructField(\"product\", StringType(), nullable = True),\n",
    "  StructField(\"productid\", StringType(), nullable = True),\n",
    "  StructField(\"proto_signature\", StringType(), nullable = True),\n",
    "  StructField(\"reason\", StringType(), nullable = True),\n",
    "  StructField(\"release_channel\", StringType(), nullable = True),\n",
    "  StructField(\"signature\", StringType(), nullable = True),\n",
    "  StructField(\"topmost_filenames\", StringType(), nullable = True),\n",
    "  StructField(\"uptime\", IntegerType(), nullable = True),\n",
    "  StructField(\"user_comments\", StringType(), nullable = True),\n",
    "  StructField(\"uuid\", StringType(), nullable = True),\n",
    "  StructField(\"version\", StringType(), nullable = True),\n",
    "  StructField(\"winsock_lsp\", StringType(), nullable = True)\n",
    "])"
   ]
  },
  {
   "cell_type": "markdown",
   "metadata": {},
   "source": [
    "### Read crash data as json, convert it to parquet"
   ]
  },
  {
   "cell_type": "code",
   "execution_count": 3,
   "metadata": {
    "collapsed": false
   },
   "outputs": [],
   "source": [
    "from datetime import datetime as dt, timedelta, date\n",
    "\n",
    "def daterange(start_date, end_date):\n",
    "    for n in range(int((end_date - start_date).days) + 1):\n",
    "        yield (end_date - timedelta(n)).strftime(\"%Y%m%d\")\n",
    "\n",
    "def import_day(d):\n",
    "    source_s3path = \"s3://org-allizom-telemetry-crashes/v1/crash_report\"\n",
    "    dest_s3path = \"s3://net-mozaws-prod-us-west-2-pipeline-analysis/mreid/socorro_crash/v1\"\n",
    "    num_partitions = 5\n",
    "    print \"Processing {}, started at {}\".format(d, dt.utcnow())\n",
    "    cur_source_s3path = \"{}/{}\".format(source_s3path, d)\n",
    "    cur_dest_s3path = \"{}/crash_date={}\".format(dest_s3path, d)\n",
    "    df = sqlContext.read.json(cur_source_s3path, schema=crash_schema)\n",
    "    df.repartition(num_partitions).write.parquet(cur_dest_s3path, mode=\"overwrite\")\n",
    "\n",
    "def backfill(start_date_yyyymmdd):\n",
    "    start_date = dt.strptime(start_date_yyyymmdd, \"%Y%m%d\")\n",
    "    end_date = dt.utcnow() - timedelta(1) # yesterday\n",
    "    for d in daterange(start_date, end_date):\n",
    "        try:\n",
    "            import_day(d)\n",
    "        except Exception as e:\n",
    "            print \"ERRROR: \", e"
   ]
  },
  {
   "cell_type": "code",
   "execution_count": 5,
   "metadata": {
    "collapsed": false
   },
   "outputs": [
    {
     "name": "stdout",
     "output_type": "stream",
     "text": [
      "Processing 20160908, started at 2016-09-09 18:47:42.180961\n"
     ]
    }
   ],
   "source": [
    "yesterday = dt.strftime(dt.utcnow() - timedelta(1), \"%Y%m%d\")\n",
    "import_day(yesterday)\n",
    "\n",
    "#backfill(\"20160902\")"
   ]
  }
 ],
 "metadata": {
  "kernelspec": {
   "display_name": "Python 2",
   "language": "python",
   "name": "python2"
  },
  "language_info": {
   "codemirror_mode": {
    "name": "ipython",
    "version": 2
   },
   "file_extension": ".py",
   "mimetype": "text/x-python",
   "name": "python",
   "nbconvert_exporter": "python",
   "pygments_lexer": "ipython2",
   "version": "2.7.11"
  }
 },
 "nbformat": 4,
 "nbformat_minor": 0
}
